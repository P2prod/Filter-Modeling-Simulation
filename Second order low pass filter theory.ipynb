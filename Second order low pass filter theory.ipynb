{
  "metadata": {
    "kernelspec": {
      "name": "python",
      "display_name": "Python (Pyodide)",
      "language": "python"
    },
    "language_info": {
      "codemirror_mode": {
        "name": "python",
        "version": 3
      },
      "file_extension": ".py",
      "mimetype": "text/x-python",
      "name": "python",
      "nbconvert_exporter": "python",
      "pygments_lexer": "ipython3",
      "version": "3.8"
    }
  },
  "nbformat_minor": 5,
  "nbformat": 4,
  "cells": [
    {
      "id": "b0ecdc12-754f-4f71-84f6-61221820339e",
      "cell_type": "markdown",
      "source": "# Second order low pass filter theory",
      "metadata": {}
    },
    {
      "id": "b3e9bd81-3112-4e74-b496-ae78d268321c",
      "cell_type": "markdown",
      "source": "## Use of Sympy to get Inverse Laplace transform, roots, etc.",
      "metadata": {}
    },
    {
      "id": "d5eb02af-9161-43da-afad-75ca11dfd0fd",
      "cell_type": "code",
      "source": "import sympy\nimport matplotlib.pyplot as plt\nimport numpy\nsympy.init_printing()\n%matplotlib inline",
      "metadata": {
        "trusted": true
      },
      "outputs": [],
      "execution_count": 168
    },
    {
      "id": "3aca40e0-05ed-4eee-ae3e-d800045ba22c",
      "cell_type": "code",
      "source": "tau, z, t, w, K = sympy.symbols('tau, z, t, w, K', real=True, positive=True)\ns = sympy.Symbol('s')",
      "metadata": {
        "trusted": true
      },
      "outputs": [],
      "execution_count": 169
    },
    {
      "id": "5f2e7e68-8dae-4455-b877-40fb586fd987",
      "cell_type": "code",
      "source": "def L(f):\n    return sympy.laplace_transform(f, t, s, noconds=True)\ndef invL(F):\n    return sympy.inverse_laplace_transform(F, s, t)",
      "metadata": {
        "trusted": true
      },
      "outputs": [],
      "execution_count": 170
    },
    {
      "id": "b2df89b5-8037-4c30-a743-0d81eb296b66",
      "cell_type": "markdown",
      "source": "### This is the standard form for the second order system transfer function",
      "metadata": {}
    },
    {
      "id": "65efc481-7e3f-4999-b8de-d17b9b2c7c81",
      "cell_type": "code",
      "source": "G = K/(tau**2*s**2 + 2*tau*z*s + 1)\nG",
      "metadata": {
        "trusted": true
      },
      "outputs": [
        {
          "execution_count": 171,
          "output_type": "execute_result",
          "data": {
            "text/plain": "         K         \n───────────────────\n 2  2              \ns ⋅τ  + 2⋅s⋅τ⋅z + 1",
            "image/png": "[encoded data removed]",
            "text/latex": "$\\displaystyle \\frac{K}{s^{2} \\tau^{2} + 2 s \\tau z + 1}$"
          },
          "metadata": {}
        }
      ],
      "execution_count": 171
    },
    {
      "id": "25d8ed0c-af75-4fcd-9bab-53dda27f82e0",
      "cell_type": "code",
      "source": "# In recent versions of Sympy, we can solve for the step response directly.\n\nsympy.__version__",
      "metadata": {
        "trusted": true
      },
      "outputs": [
        {
          "execution_count": 172,
          "output_type": "execute_result",
          "data": {
            "text/plain": "'1.13.3'"
          },
          "metadata": {}
        }
      ],
      "execution_count": 172
    },
    {
      "id": "50c4e753-7f57-452f-939f-37679a718853",
      "cell_type": "code",
      "source": "invL(G/s)",
      "metadata": {
        "trusted": true
      },
      "outputs": [
        {
          "execution_count": 173,
          "output_type": "execute_result",
          "data": {
            "text/plain": "  ⎛     -t⋅z     ⎛     ________⎞                                        ⎞\n  ⎜     ─────    ⎜    ╱      2 ⎟                                        ⎟\n  ⎜       τ      ⎜t⋅╲╱  1 - z  ⎟        -t⋅z                            ⎟\n  ⎜  z⋅ℯ     ⋅sin⎜─────────────⎟        ─────    ⎛    _______   _______⎞⎟\n  ⎜              ⎝      τ      ⎠          τ      ⎜t⋅╲╱ 1 - z ⋅╲╱ z + 1 ⎟⎟\nK⋅⎜- ─────────────────────────── + 1 - ℯ     ⋅cos⎜─────────────────────⎟⎟\n  ⎜             ________                         ⎝          τ          ⎠⎟\n  ⎜            ╱      2                                                 ⎟\n  ⎝          ╲╱  1 - z                                                  ⎠",
            "image/png": "[encoded data removed]",
            "text/latex": "$\\displaystyle K \\left(- \\frac{z e^{- \\frac{t z}{\\tau}} \\sin{\\left(\\frac{t \\sqrt{1 - z^{2}}}{\\tau} \\right)}}{\\sqrt{1 - z^{2}}} + 1 - e^{- \\frac{t z}{\\tau}} \\cos{\\left(\\frac{t \\sqrt{1 - z} \\sqrt{z + 1}}{\\tau} \\right)}\\right)$"
          },
          "metadata": {}
        }
      ],
      "execution_count": 173
    },
    {
      "id": "d0cfe3da-5ad4-4239-a1ea-2de1e57dd86c",
      "cell_type": "markdown",
      "source": "### The characteristic equation 'ce' is the denominator of the transfer function is the following one:",
      "metadata": {}
    },
    {
      "id": "421ee238-ad7e-46f1-a719-bb36e8a78f4e",
      "cell_type": "code",
      "source": "ce = sympy.Eq(sympy.denom(G), 0)\nce",
      "metadata": {
        "trusted": true
      },
      "outputs": [
        {
          "execution_count": 174,
          "output_type": "execute_result",
          "data": {
            "text/plain": " 2  2                  \ns ⋅τ  + 2⋅s⋅τ⋅z + 1 = 0",
            "image/png": "[encoded data removed]",
            "text/latex": "$\\displaystyle s^{2} \\tau^{2} + 2 s \\tau z + 1 = 0$"
          },
          "metadata": {}
        }
      ],
      "execution_count": 174
    },
    {
      "id": "ddd4eff1-14d3-4834-8bee-2094d9879bf7",
      "cell_type": "code",
      "source": "# The roots of this equation are the following ones:\n\nroots = sympy.roots(ce, s)\nroots",
      "metadata": {
        "trusted": true
      },
      "outputs": [
        {
          "execution_count": 175,
          "output_type": "execute_result",
          "data": {
            "text/plain": "⎧       _______   _______            _______   _______   ⎫\n⎪-z - ╲╱ z - 1 ⋅╲╱ z + 1      -z + ╲╱ z - 1 ⋅╲╱ z + 1    ⎪\n⎨────────────────────────: 1, ────────────────────────: 1⎬\n⎪           τ                            τ               ⎪\n⎩                                                        ⎭",
            "image/png": "[encoded data removed]",
            "text/latex": "$\\displaystyle \\left\\{ \\frac{- z - \\sqrt{z - 1} \\sqrt{z + 1}}{\\tau} : 1, \\  \\frac{- z + \\sqrt{z - 1} \\sqrt{z + 1}}{\\tau} : 1\\right\\}$"
          },
          "metadata": {}
        }
      ],
      "execution_count": 175
    },
    {
      "id": "d46dfe3e-8706-4c88-ae26-75af08568d11",
      "cell_type": "code",
      "source": "# We can see that z value is a determining factor in the output response o the filter\n\n",
      "metadata": {
        "trusted": true
      },
      "outputs": [],
      "execution_count": 176
    },
    {
      "id": "14d20227-e2d7-4aa5-99c5-4501db334f0a",
      "cell_type": "code",
      "source": "%pip install -q ipywidgets\nfrom ipywidgets import interact",
      "metadata": {
        "trusted": true
      },
      "outputs": [],
      "execution_count": 177
    },
    {
      "id": "13c954db-4d32-4a72-85ed-3de68f013da3",
      "cell_type": "code",
      "source": "def secondorder(K_in, tau_in, z_in, tmax):\n    values = {K: sympy.nsimplify(K_in), tau: sympy.nsimplify(tau_in), z: sympy.nsimplify(z_in)}\n    stepresponse = sympy.re(invL(G.subs(values)/s))\n\n    sympy.plot(stepresponse, (t, 0, tmax), ylim = [0, 2])",
      "metadata": {
        "trusted": true
      },
      "outputs": [],
      "execution_count": 181
    },
    {
      "id": "6ed0cad7-df23-4fab-92bb-b7f4feef5215",
      "cell_type": "markdown",
      "source": "### Interactive curve (unit step response of the filter)",
      "metadata": {}
    },
    {
      "id": "497cf795-0239-4aee-ad3a-7d32390ee6f5",
      "cell_type": "code",
      "source": "interact(secondorder, K_in=(0, 1.), tau_in=(0., 10.), z_in=(0., 2), tmax=(30., 100));",
      "metadata": {
        "trusted": true
      },
      "outputs": [
        {
          "output_type": "display_data",
          "data": {
            "text/plain": "interactive(children=(FloatSlider(value=0.5, description='K_in', max=1.0), FloatSlider(value=5.0, description=…",
            "application/vnd.jupyter.widget-view+json": {
              "version_major": 2,
              "version_minor": 0,
              "model_id": "e38082b977db4092be36178ad9030886"
            }
          },
          "metadata": {}
        }
      ],
      "execution_count": 182
    },
    {
      "id": "6204bdce-8bb8-4a77-a33d-72c105f28bcd",
      "cell_type": "code",
      "source": "",
      "metadata": {
        "trusted": true
      },
      "outputs": [],
      "execution_count": null
    }
  ]
}