{
  "metadata": {
    "kernelspec": {
      "name": "python",
      "display_name": "Python (Pyodide)",
      "language": "python"
    },
    "language_info": {
      "codemirror_mode": {
        "name": "python",
        "version": 3
      },
      "file_extension": ".py",
      "mimetype": "text/x-python",
      "name": "python",
      "nbconvert_exporter": "python",
      "pygments_lexer": "ipython3",
      "version": "3.8"
    }
  },
  "nbformat_minor": 5,
  "nbformat": 4,
  "cells": [
    {
      "id": "529c6f9a-31db-42a9-b5ac-4b5990b6ed57",
      "cell_type": "markdown",
      "source": "# Second order high pass filter theory",
      "metadata": {}
    },
    {
      "id": "08ff7402-5a58-4400-8fe7-4a804fb7526d",
      "cell_type": "markdown",
      "source": "## Use of Sympy to get Inverse Laplace transform, roots, etc.",
      "metadata": {}
    },
    {
      "id": "6c166543-fbf7-4957-b9ce-d82845e1b00d",
      "cell_type": "code",
      "source": "import sympy\nimport matplotlib.pyplot as plt\nimport numpy\nsympy.init_printing()\n%matplotlib inline",
      "metadata": {
        "trusted": true
      },
      "outputs": [
        {
          "name": "stderr",
          "output_type": "stream",
          "text": "Matplotlib is building the font cache; this may take a moment.\n"
        }
      ],
      "execution_count": 1
    },
    {
      "id": "db74deff-420a-474c-9a36-241e0f863686",
      "cell_type": "code",
      "source": "tau, z, t, w, K = sympy.symbols('tau, z, t, w, K', real=True, positive=True)\ns = sympy.Symbol('s')",
      "metadata": {
        "trusted": true
      },
      "outputs": [],
      "execution_count": 2
    },
    {
      "id": "2d507d8f-d5b7-4f7e-8db5-b8d4e03b04b1",
      "cell_type": "code",
      "source": "def L(f):\n    return sympy.laplace_transform(f, t, s, noconds=True)\ndef invL(F):\n    return sympy.inverse_laplace_transform(F, s, t)",
      "metadata": {
        "trusted": true
      },
      "outputs": [],
      "execution_count": 3
    },
    {
      "id": "ae5bcad5-876e-40e8-a9f8-244dc9a39b98",
      "cell_type": "markdown",
      "source": "### This is the standard form for the second order system transfer function\n",
      "metadata": {}
    },
    {
      "id": "26f75b55-4444-455f-9608-d10589368c73",
      "cell_type": "code",
      "source": "G = K*tau**2*s**2/(tau**2*s**2 + 2*tau*z*s + 1)\nG",
      "metadata": {
        "trusted": true
      },
      "outputs": [
        {
          "execution_count": 4,
          "output_type": "execute_result",
          "data": {
            "text/plain": "         2  2      \n      K⋅s ⋅τ       \n───────────────────\n 2  2              \ns ⋅τ  + 2⋅s⋅τ⋅z + 1",
            "image/png": "[encoded data removed]",
            "text/latex": "$\\displaystyle \\frac{K s^{2} \\tau^{2}}{s^{2} \\tau^{2} + 2 s \\tau z + 1}$"
          },
          "metadata": {}
        }
      ],
      "execution_count": 4
    },
    {
      "id": "d004ca17-f0c9-47e3-ad93-b2ccf9191e4c",
      "cell_type": "code",
      "source": "# In recent versions of Sympy, we can solve for the step response directly.\n\nsympy.__version__",
      "metadata": {
        "trusted": true
      },
      "outputs": [
        {
          "execution_count": 5,
          "output_type": "execute_result",
          "data": {
            "text/plain": "'1.13.3'"
          },
          "metadata": {}
        }
      ],
      "execution_count": 5
    },
    {
      "id": "fbc753c2-804f-4d73-ab7d-8302a402ddaf",
      "cell_type": "code",
      "source": "invL(G/s)",
      "metadata": {
        "trusted": true
      },
      "outputs": [
        {
          "execution_count": 6,
          "output_type": "execute_result",
          "data": {
            "text/plain": "     ⎛     -t⋅z     ⎛     ________⎞    -t⋅z                            ⎞\n     ⎜     ─────    ⎜    ╱      2 ⎟    ─────    ⎛    _______   _______⎞⎟\n     ⎜       τ      ⎜t⋅╲╱  1 - z  ⎟      τ      ⎜t⋅╲╱ 1 - z ⋅╲╱ z + 1 ⎟⎟\n     ⎜  z⋅ℯ     ⋅sin⎜─────────────⎟   ℯ     ⋅cos⎜─────────────────────⎟⎟\n   2 ⎜              ⎝      τ      ⎠             ⎝          τ          ⎠⎟\nK⋅τ ⋅⎜- ─────────────────────────── + ─────────────────────────────────⎟\n     ⎜              ________                          2                ⎟\n     ⎜         2   ╱      2                          τ                 ⎟\n     ⎝        τ ⋅╲╱  1 - z                                             ⎠",
            "image/png": "[encoded data removed]",
            "text/latex": "$\\displaystyle K \\tau^{2} \\left(- \\frac{z e^{- \\frac{t z}{\\tau}} \\sin{\\left(\\frac{t \\sqrt{1 - z^{2}}}{\\tau} \\right)}}{\\tau^{2} \\sqrt{1 - z^{2}}} + \\frac{e^{- \\frac{t z}{\\tau}} \\cos{\\left(\\frac{t \\sqrt{1 - z} \\sqrt{z + 1}}{\\tau} \\right)}}{\\tau^{2}}\\right)$"
          },
          "metadata": {}
        }
      ],
      "execution_count": 6
    },
    {
      "id": "bcaa7024-e386-4ec4-8452-148fa8c6231f",
      "cell_type": "markdown",
      "source": "### The characteristic equation 'ce' is the denominator of the transfer function is the following one:",
      "metadata": {}
    },
    {
      "id": "87be3040-2a36-4848-bf6e-e603646d37d3",
      "cell_type": "code",
      "source": "ce = sympy.Eq(sympy.denom(G), 0)\nce",
      "metadata": {
        "trusted": true
      },
      "outputs": [
        {
          "execution_count": 7,
          "output_type": "execute_result",
          "data": {
            "text/plain": " 2  2                  \ns ⋅τ  + 2⋅s⋅τ⋅z + 1 = 0",
            "image/png": "[encoded data removed]",
            "text/latex": "$\\displaystyle s^{2} \\tau^{2} + 2 s \\tau z + 1 = 0$"
          },
          "metadata": {}
        }
      ],
      "execution_count": 7
    },
    {
      "id": "a7a06e5b-3733-4f57-a47e-d370171bf792",
      "cell_type": "code",
      "source": "# The roots of this equation are the following ones:\n\nroots = sympy.roots(ce, s)\nroots",
      "metadata": {
        "trusted": true
      },
      "outputs": [
        {
          "execution_count": 8,
          "output_type": "execute_result",
          "data": {
            "text/plain": "⎧       _______   _______            _______   _______   ⎫\n⎪-z - ╲╱ z - 1 ⋅╲╱ z + 1      -z + ╲╱ z - 1 ⋅╲╱ z + 1    ⎪\n⎨────────────────────────: 1, ────────────────────────: 1⎬\n⎪           τ                            τ               ⎪\n⎩                                                        ⎭",
            "image/png": "[encoded data removed]",
            "text/latex": "$\\displaystyle \\left\\{ \\frac{- z - \\sqrt{z - 1} \\sqrt{z + 1}}{\\tau} : 1, \\  \\frac{- z + \\sqrt{z - 1} \\sqrt{z + 1}}{\\tau} : 1\\right\\}$"
          },
          "metadata": {}
        }
      ],
      "execution_count": 8
    },
    {
      "id": "5cbe2888-8731-4c13-a5e7-1c65813bddbe",
      "cell_type": "code",
      "source": "# We can see that z value is a determining factor in the output response o the filter\n",
      "metadata": {
        "trusted": true
      },
      "outputs": [],
      "execution_count": 9
    },
    {
      "id": "0490fc65-f5d5-45f7-bb14-d0a47c4f3bb0",
      "cell_type": "code",
      "source": "%pip install -q ipywidgets\nfrom ipywidgets import interact",
      "metadata": {
        "trusted": true
      },
      "outputs": [],
      "execution_count": 10
    },
    {
      "id": "e26a1a4b-57a5-4570-89d8-0c99973a5fe5",
      "cell_type": "code",
      "source": "def secondorder(K_in, tau_in, z_in, tmax):\n    values = {K: sympy.nsimplify(K_in), tau: sympy.nsimplify(tau_in), z: sympy.nsimplify(z_in)}\n    stepresponse = sympy.re(invL(G.subs(values)/s))\n\n    sympy.plot(stepresponse, (t, 0, tmax), ylim = [-1, 1])",
      "metadata": {
        "trusted": true
      },
      "outputs": [],
      "execution_count": 15
    },
    {
      "id": "1ee76a49-a030-4611-804c-90a36299f507",
      "cell_type": "markdown",
      "source": "### Interactive curve (unit step response of the filter)",
      "metadata": {}
    },
    {
      "id": "9e83a2d7-9d31-4719-9f3f-a7b3734a22f5",
      "cell_type": "code",
      "source": "interact(secondorder, K_in=(0, 1.), tau_in=(0., 10.), z_in=(0., 2), tmax=(30., 100));",
      "metadata": {
        "trusted": true
      },
      "outputs": [
        {
          "output_type": "display_data",
          "data": {
            "text/plain": "interactive(children=(FloatSlider(value=0.5, description='K_in', max=1.0), FloatSlider(value=5.0, description=…",
            "application/vnd.jupyter.widget-view+json": {
              "version_major": 2,
              "version_minor": 0,
              "model_id": "75a284af3e62476abaf8b59804c7c18b"
            }
          },
          "metadata": {}
        }
      ],
      "execution_count": 16
    },
    {
      "id": "c2a7d88b-b532-498c-82e3-0ef367fb70d0",
      "cell_type": "code",
      "source": "",
      "metadata": {
        "trusted": true
      },
      "outputs": [],
      "execution_count": null
    }
  ]
}